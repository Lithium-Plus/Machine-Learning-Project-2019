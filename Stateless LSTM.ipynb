{
  "nbformat": 4,
  "nbformat_minor": 0,
  "metadata": {
    "colab": {
      "name": "Untitled2.ipynb",
      "provenance": []
    },
    "kernelspec": {
      "name": "python3",
      "display_name": "Python 3"
    }
  },
  "cells": [
    {
      "cell_type": "code",
      "metadata": {
        "id": "yHH4k8tbewqM",
        "colab_type": "code",
        "outputId": "2a362cde-fa25-4cc9-fec8-e9019f5c07f1",
        "colab": {
          "base_uri": "https://localhost:8080/",
          "height": 117
        }
      },
      "source": [
        "import pandas as pd\n",
        "from scipy.io import arff\n",
        "import numpy as np\n",
        "import matplotlib.pyplot as plt\n",
        "import seaborn as sns\n",
        "\n",
        "%matplotlib inline\n",
        "\n",
        "import numpy as np\n",
        "from keras.models import Sequential\n",
        "from keras.layers import Dense\n",
        "from keras.layers import Dropout\n",
        "from keras.layers import LSTM\n",
        "from keras.utils import np_utils\n",
        "%tensorflow_version 2.x\n",
        "\n",
        "from keras.preprocessing import sequence\n",
        "from keras.models import Sequential\n",
        "from keras.layers import Dense\n",
        "from keras.layers import LSTM\n",
        "from keras.layers import GRU\n",
        "from keras.layers import TimeDistributed\n",
        "from keras import layers\n",
        "\n",
        "from keras.optimizers import Adam\n",
        "from keras.models import load_model\n",
        "from keras.callbacks import ModelCheckpoint\n",
        "from keras.callbacks import History\n",
        "import copy\n",
        "sns.set(font_scale=1.2)\n"
      ],
      "execution_count": 1,
      "outputs": [
        {
          "output_type": "stream",
          "text": [
            "Using TensorFlow backend.\n"
          ],
          "name": "stderr"
        },
        {
          "output_type": "display_data",
          "data": {
            "text/html": [
              "<p style=\"color: red;\">\n",
              "The default version of TensorFlow in Colab will soon switch to TensorFlow 2.x.<br>\n",
              "We recommend you <a href=\"https://www.tensorflow.org/guide/migrate\" target=\"_blank\">upgrade</a> now \n",
              "or ensure your notebook will continue to use TensorFlow 1.x via the <code>%tensorflow_version 1.x</code> magic:\n",
              "<a href=\"https://colab.research.google.com/notebooks/tensorflow_version.ipynb\" target=\"_blank\">more info</a>.</p>\n"
            ],
            "text/plain": [
              "<IPython.core.display.HTML object>"
            ]
          },
          "metadata": {
            "tags": []
          }
        },
        {
          "output_type": "stream",
          "text": [
            "TensorFlow is already loaded. Please restart the runtime to change versions.\n"
          ],
          "name": "stdout"
        }
      ]
    },
    {
      "cell_type": "code",
      "metadata": {
        "id": "7yrul3O4fhA2",
        "colab_type": "code",
        "colab": {}
      },
      "source": [
        "db=arff.loadarff('EES.arff')\n"
      ],
      "execution_count": 0,
      "outputs": []
    },
    {
      "cell_type": "code",
      "metadata": {
        "id": "XRqXM4vNfnPm",
        "colab_type": "code",
        "colab": {}
      },
      "source": [
        "df = pd.DataFrame(db[0])\n",
        "column = pd.to_numeric(df['eyeDetection'])\n",
        "df = df.drop(['eyeDetection'],axis=1)\n",
        "df.insert(14,'eyeDetection',column)"
      ],
      "execution_count": 0,
      "outputs": []
    },
    {
      "cell_type": "code",
      "metadata": {
        "id": "B91AkbF6VzL_",
        "colab_type": "code",
        "colab": {}
      },
      "source": [
        "new_df = np.array(df)"
      ],
      "execution_count": 0,
      "outputs": []
    },
    {
      "cell_type": "code",
      "metadata": {
        "id": "LXBJFVKQTzTm",
        "colab_type": "code",
        "colab": {}
      },
      "source": [
        "# regularize outlier\n",
        "for i in range(len(new_df)):\n",
        "  for j in range(len(new_df[i])-1):\n",
        "    if new_df[i][j]>4800:\n",
        "      new_df[i][j] = new_df[i-1][j]\n",
        "    if new_df[i][j]<3800:\n",
        "      new_df[i][j] = new_df[i-1][j]\n",
        "\n",
        "X_data = new_df[:,0:14]\n",
        "Y_data = new_df[:,14]\n",
        "\n"
      ],
      "execution_count": 0,
      "outputs": []
    },
    {
      "cell_type": "code",
      "metadata": {
        "id": "7XJ6RcgKueGm",
        "colab_type": "code",
        "colab": {}
      },
      "source": [
        "#Extract data for LSTM\n",
        "def new_data_set(dataset,forward_step,time_step,cut_change):\n",
        "  new_data_set = []\n",
        "  end_index = forward_step + time_step\n",
        "  start_index = 0\n",
        "  while end_index < len(dataset):\n",
        "    data_piece = dataset[start_index:end_index,:]\n",
        "    if cut_change:\n",
        "      if int(data_piece[0][-1]) == int(data_piece[-1][-1]):\n",
        "        new_data_set.append(data_piece)\n",
        "      else:\n",
        "        start_index += time_step\n",
        "        end_index += time_step\n",
        "        continue\n",
        "    else:\n",
        "      new_data_set.append(data_piece)\n",
        "    start_index += time_step\n",
        "    end_index += time_step\n",
        "  return np.array(new_data_set)\n",
        "\n",
        "\n",
        "X_train = new_data_set(new_df[0:4900,:],25,25,False)\n",
        "X_validation = new_data_set(new_df[4900:9800,:],25,25,False)\n",
        "X_test = new_data_set(new_df[9800:14700,:],25,25,False)\n"
      ],
      "execution_count": 0,
      "outputs": []
    },
    {
      "cell_type": "code",
      "metadata": {
        "id": "HVauyOdkDdbj",
        "colab_type": "code",
        "colab": {}
      },
      "source": [
        "#get data in shape\n",
        "y_train = np.array([i[-1][-1] for i in X_train])\n",
        "y_validation = np.array([i[-1][-1] for i in X_validation])\n",
        "y_test = np.array([i[-1][-1] for i in X_test])\n",
        "X_train = X_train[:,:,0:14]\n",
        "X_validation = X_validation[:,:,0:14]\n",
        "X_test = X_test[:,:,0:14]\n",
        "length = y_train.shape[0]\n",
        "y_train = y_train.reshape(length,1)\n",
        "y_validation = y_validation.reshape(length,1)\n",
        "y_test = y_test.reshape(length,1)"
      ],
      "execution_count": 0,
      "outputs": []
    },
    {
      "cell_type": "code",
      "metadata": {
        "id": "WJIJbfHk9ylH",
        "colab_type": "code",
        "colab": {}
      },
      "source": [
        "#transfrom y into hot vector\n",
        "from keras.utils.np_utils import to_categorical\n",
        "y_train = to_categorical(y_train,2)\n",
        "y_test = to_categorical(y_test,2)\n",
        "y_validation = to_categorical(y_validation,2)"
      ],
      "execution_count": 0,
      "outputs": []
    },
    {
      "cell_type": "code",
      "metadata": {
        "id": "WOdsa7pGx6p-",
        "colab_type": "code",
        "outputId": "77230de1-bb8d-44fb-fd37-c503eae6e917",
        "colab": {
          "base_uri": "https://localhost:8080/",
          "height": 1000
        }
      },
      "source": [
        "#model setup and learning\n",
        "model = Sequential()\n",
        "model.add(LSTM(128,activation='tanh',input_shape=(X_train.shape[1],X_train.shape[2]),return_sequences=True))\n",
        "model.add(LSTM(32,activation='relu',return_sequences=False))\n",
        "model.add(Dense(2,activation = 'sigmoid'))\n",
        "adam = Adam(lr=1e-4,beta_1=0.9, beta_2=0.999,decay=1e-06)\n",
        "chk = ModelCheckpoint('best_model.pkl', monitor='val_acc', save_best_only=True, mode='max', verbose=1)\n",
        "model.compile(loss='mae', optimizer=adam, metrics=['accuracy'])\n",
        "history=model.fit(X_train,y_train, epochs=60, batch_size=32, callbacks=[chk],validation_data=[X_validation,y_validation])"
      ],
      "execution_count": 20,
      "outputs": [
        {
          "output_type": "stream",
          "text": [
            "Train on 194 samples, validate on 194 samples\n",
            "Epoch 1/60\n",
            "194/194 [==============================] - 3s 17ms/step - loss: 0.4993 - acc: 0.5103 - val_loss: 0.4786 - val_acc: 0.6392\n",
            "\n",
            "Epoch 00001: val_acc improved from -inf to 0.63918, saving model to best_model.pkl\n",
            "Epoch 2/60\n",
            "194/194 [==============================] - 1s 4ms/step - loss: 0.4976 - acc: 0.5103 - val_loss: 0.4743 - val_acc: 0.6392\n",
            "\n",
            "Epoch 00002: val_acc did not improve from 0.63918\n",
            "Epoch 3/60\n",
            "194/194 [==============================] - 1s 4ms/step - loss: 0.4969 - acc: 0.5103 - val_loss: 0.4689 - val_acc: 0.6392\n",
            "\n",
            "Epoch 00003: val_acc did not improve from 0.63918\n",
            "Epoch 4/60\n",
            "194/194 [==============================] - 1s 4ms/step - loss: 0.4969 - acc: 0.5103 - val_loss: 0.4700 - val_acc: 0.6392\n",
            "\n",
            "Epoch 00004: val_acc did not improve from 0.63918\n",
            "Epoch 5/60\n",
            "194/194 [==============================] - 1s 4ms/step - loss: 0.4972 - acc: 0.5103 - val_loss: 0.4660 - val_acc: 0.6392\n",
            "\n",
            "Epoch 00005: val_acc did not improve from 0.63918\n",
            "Epoch 6/60\n",
            "194/194 [==============================] - 1s 4ms/step - loss: 0.4975 - acc: 0.5103 - val_loss: 0.4643 - val_acc: 0.6392\n",
            "\n",
            "Epoch 00006: val_acc did not improve from 0.63918\n",
            "Epoch 7/60\n",
            "194/194 [==============================] - 1s 4ms/step - loss: 0.4973 - acc: 0.5103 - val_loss: 0.4596 - val_acc: 0.6392\n",
            "\n",
            "Epoch 00007: val_acc did not improve from 0.63918\n",
            "Epoch 8/60\n",
            "194/194 [==============================] - 1s 5ms/step - loss: 0.4970 - acc: 0.5103 - val_loss: 0.4612 - val_acc: 0.6392\n",
            "\n",
            "Epoch 00008: val_acc did not improve from 0.63918\n",
            "Epoch 9/60\n",
            "194/194 [==============================] - 1s 4ms/step - loss: 0.4971 - acc: 0.5103 - val_loss: 0.4652 - val_acc: 0.6392\n",
            "\n",
            "Epoch 00009: val_acc did not improve from 0.63918\n",
            "Epoch 10/60\n",
            "194/194 [==============================] - 1s 4ms/step - loss: 0.4976 - acc: 0.5103 - val_loss: 0.4672 - val_acc: 0.6392\n",
            "\n",
            "Epoch 00010: val_acc did not improve from 0.63918\n",
            "Epoch 11/60\n",
            "194/194 [==============================] - 1s 4ms/step - loss: 0.4976 - acc: 0.5103 - val_loss: 0.4680 - val_acc: 0.6392\n",
            "\n",
            "Epoch 00011: val_acc did not improve from 0.63918\n",
            "Epoch 12/60\n",
            "194/194 [==============================] - 1s 4ms/step - loss: 0.4979 - acc: 0.5103 - val_loss: 0.4714 - val_acc: 0.6392\n",
            "\n",
            "Epoch 00012: val_acc did not improve from 0.63918\n",
            "Epoch 13/60\n",
            "194/194 [==============================] - 1s 4ms/step - loss: 0.4979 - acc: 0.5103 - val_loss: 0.4730 - val_acc: 0.6392\n",
            "\n",
            "Epoch 00013: val_acc did not improve from 0.63918\n",
            "Epoch 14/60\n",
            "194/194 [==============================] - 1s 4ms/step - loss: 0.4979 - acc: 0.5103 - val_loss: 0.4755 - val_acc: 0.6392\n",
            "\n",
            "Epoch 00014: val_acc did not improve from 0.63918\n",
            "Epoch 15/60\n",
            "194/194 [==============================] - 1s 4ms/step - loss: 0.4981 - acc: 0.5103 - val_loss: 0.4727 - val_acc: 0.6392\n",
            "\n",
            "Epoch 00015: val_acc did not improve from 0.63918\n",
            "Epoch 16/60\n",
            "194/194 [==============================] - 1s 5ms/step - loss: 0.4973 - acc: 0.5103 - val_loss: 0.4681 - val_acc: 0.6392\n",
            "\n",
            "Epoch 00016: val_acc did not improve from 0.63918\n",
            "Epoch 17/60\n",
            "194/194 [==============================] - 1s 4ms/step - loss: 0.4970 - acc: 0.5103 - val_loss: 0.4625 - val_acc: 0.6392\n",
            "\n",
            "Epoch 00017: val_acc did not improve from 0.63918\n",
            "Epoch 18/60\n",
            "194/194 [==============================] - 1s 4ms/step - loss: 0.4974 - acc: 0.5103 - val_loss: 0.4612 - val_acc: 0.6392\n",
            "\n",
            "Epoch 00018: val_acc did not improve from 0.63918\n",
            "Epoch 19/60\n",
            "194/194 [==============================] - 1s 4ms/step - loss: 0.4972 - acc: 0.5103 - val_loss: 0.4614 - val_acc: 0.6392\n",
            "\n",
            "Epoch 00019: val_acc did not improve from 0.63918\n",
            "Epoch 20/60\n",
            "194/194 [==============================] - 1s 4ms/step - loss: 0.4975 - acc: 0.5103 - val_loss: 0.4641 - val_acc: 0.6392\n",
            "\n",
            "Epoch 00020: val_acc did not improve from 0.63918\n",
            "Epoch 21/60\n",
            "194/194 [==============================] - 1s 5ms/step - loss: 0.4973 - acc: 0.5103 - val_loss: 0.4622 - val_acc: 0.6392\n",
            "\n",
            "Epoch 00021: val_acc did not improve from 0.63918\n",
            "Epoch 22/60\n",
            "194/194 [==============================] - 1s 4ms/step - loss: 0.4975 - acc: 0.5103 - val_loss: 0.4648 - val_acc: 0.6392\n",
            "\n",
            "Epoch 00022: val_acc did not improve from 0.63918\n",
            "Epoch 23/60\n",
            "194/194 [==============================] - 1s 4ms/step - loss: 0.4974 - acc: 0.5103 - val_loss: 0.4686 - val_acc: 0.6392\n",
            "\n",
            "Epoch 00023: val_acc did not improve from 0.63918\n",
            "Epoch 24/60\n",
            "194/194 [==============================] - 1s 4ms/step - loss: 0.4977 - acc: 0.5103 - val_loss: 0.4732 - val_acc: 0.6392\n",
            "\n",
            "Epoch 00024: val_acc did not improve from 0.63918\n",
            "Epoch 25/60\n",
            "194/194 [==============================] - 1s 4ms/step - loss: 0.4985 - acc: 0.5103 - val_loss: 0.4783 - val_acc: 0.6392\n",
            "\n",
            "Epoch 00025: val_acc did not improve from 0.63918\n",
            "Epoch 26/60\n",
            "194/194 [==============================] - 1s 4ms/step - loss: 0.4984 - acc: 0.5103 - val_loss: 0.4823 - val_acc: 0.6392\n",
            "\n",
            "Epoch 00026: val_acc did not improve from 0.63918\n",
            "Epoch 27/60\n",
            "194/194 [==============================] - 1s 4ms/step - loss: 0.4989 - acc: 0.5103 - val_loss: 0.4837 - val_acc: 0.6392\n",
            "\n",
            "Epoch 00027: val_acc did not improve from 0.63918\n",
            "Epoch 28/60\n",
            "194/194 [==============================] - 1s 4ms/step - loss: 0.4988 - acc: 0.5103 - val_loss: 0.4817 - val_acc: 0.6392\n",
            "\n",
            "Epoch 00028: val_acc did not improve from 0.63918\n",
            "Epoch 29/60\n",
            "194/194 [==============================] - 1s 4ms/step - loss: 0.4987 - acc: 0.5103 - val_loss: 0.4831 - val_acc: 0.6392\n",
            "\n",
            "Epoch 00029: val_acc did not improve from 0.63918\n",
            "Epoch 30/60\n",
            "194/194 [==============================] - 1s 4ms/step - loss: 0.4988 - acc: 0.5103 - val_loss: 0.4853 - val_acc: 0.6392\n",
            "\n",
            "Epoch 00030: val_acc did not improve from 0.63918\n",
            "Epoch 31/60\n",
            "194/194 [==============================] - 1s 4ms/step - loss: 0.4988 - acc: 0.5103 - val_loss: 0.4843 - val_acc: 0.6392\n",
            "\n",
            "Epoch 00031: val_acc did not improve from 0.63918\n",
            "Epoch 32/60\n",
            "194/194 [==============================] - 1s 4ms/step - loss: 0.4988 - acc: 0.5103 - val_loss: 0.4830 - val_acc: 0.6392\n",
            "\n",
            "Epoch 00032: val_acc did not improve from 0.63918\n",
            "Epoch 33/60\n",
            "194/194 [==============================] - 1s 4ms/step - loss: 0.4988 - acc: 0.5103 - val_loss: 0.4817 - val_acc: 0.6392\n",
            "\n",
            "Epoch 00033: val_acc did not improve from 0.63918\n",
            "Epoch 34/60\n",
            "194/194 [==============================] - 1s 4ms/step - loss: 0.4984 - acc: 0.5103 - val_loss: 0.4782 - val_acc: 0.6392\n",
            "\n",
            "Epoch 00034: val_acc did not improve from 0.63918\n",
            "Epoch 35/60\n",
            "194/194 [==============================] - 1s 4ms/step - loss: 0.4982 - acc: 0.5103 - val_loss: 0.4770 - val_acc: 0.6392\n",
            "\n",
            "Epoch 00035: val_acc did not improve from 0.63918\n",
            "Epoch 36/60\n",
            "194/194 [==============================] - 1s 4ms/step - loss: 0.4983 - acc: 0.5103 - val_loss: 0.4775 - val_acc: 0.6392\n",
            "\n",
            "Epoch 00036: val_acc did not improve from 0.63918\n",
            "Epoch 37/60\n",
            "194/194 [==============================] - 1s 4ms/step - loss: 0.4984 - acc: 0.5103 - val_loss: 0.4779 - val_acc: 0.6392\n",
            "\n",
            "Epoch 00037: val_acc did not improve from 0.63918\n",
            "Epoch 38/60\n",
            "194/194 [==============================] - 1s 4ms/step - loss: 0.4985 - acc: 0.5103 - val_loss: 0.4804 - val_acc: 0.6392\n",
            "\n",
            "Epoch 00038: val_acc did not improve from 0.63918\n",
            "Epoch 39/60\n",
            "194/194 [==============================] - 1s 4ms/step - loss: 0.4986 - acc: 0.5103 - val_loss: 0.4813 - val_acc: 0.6392\n",
            "\n",
            "Epoch 00039: val_acc did not improve from 0.63918\n",
            "Epoch 40/60\n",
            "194/194 [==============================] - 1s 4ms/step - loss: 0.4988 - acc: 0.5103 - val_loss: 0.4837 - val_acc: 0.6392\n",
            "\n",
            "Epoch 00040: val_acc did not improve from 0.63918\n",
            "Epoch 41/60\n",
            "194/194 [==============================] - 1s 4ms/step - loss: 0.4990 - acc: 0.5103 - val_loss: 0.4812 - val_acc: 0.6392\n",
            "\n",
            "Epoch 00041: val_acc did not improve from 0.63918\n",
            "Epoch 42/60\n",
            "194/194 [==============================] - 1s 4ms/step - loss: 0.4984 - acc: 0.5103 - val_loss: 0.4780 - val_acc: 0.6392\n",
            "\n",
            "Epoch 00042: val_acc did not improve from 0.63918\n",
            "Epoch 43/60\n",
            "194/194 [==============================] - 1s 4ms/step - loss: 0.4984 - acc: 0.5103 - val_loss: 0.4763 - val_acc: 0.6392\n",
            "\n",
            "Epoch 00043: val_acc did not improve from 0.63918\n",
            "Epoch 44/60\n",
            "194/194 [==============================] - 1s 4ms/step - loss: 0.4983 - acc: 0.5103 - val_loss: 0.4773 - val_acc: 0.6392\n",
            "\n",
            "Epoch 00044: val_acc did not improve from 0.63918\n",
            "Epoch 45/60\n",
            "194/194 [==============================] - 1s 4ms/step - loss: 0.4983 - acc: 0.5103 - val_loss: 0.4775 - val_acc: 0.6392\n",
            "\n",
            "Epoch 00045: val_acc did not improve from 0.63918\n",
            "Epoch 46/60\n",
            "194/194 [==============================] - 1s 4ms/step - loss: 0.4985 - acc: 0.5103 - val_loss: 0.4768 - val_acc: 0.6392\n",
            "\n",
            "Epoch 00046: val_acc did not improve from 0.63918\n",
            "Epoch 47/60\n",
            "194/194 [==============================] - 1s 4ms/step - loss: 0.4984 - acc: 0.5103 - val_loss: 0.4769 - val_acc: 0.6392\n",
            "\n",
            "Epoch 00047: val_acc did not improve from 0.63918\n",
            "Epoch 48/60\n",
            "194/194 [==============================] - 1s 4ms/step - loss: 0.4983 - acc: 0.5103 - val_loss: 0.4795 - val_acc: 0.6392\n",
            "\n",
            "Epoch 00048: val_acc did not improve from 0.63918\n",
            "Epoch 49/60\n",
            "194/194 [==============================] - 1s 4ms/step - loss: 0.4990 - acc: 0.5103 - val_loss: 0.4832 - val_acc: 0.6392\n",
            "\n",
            "Epoch 00049: val_acc did not improve from 0.63918\n",
            "Epoch 50/60\n",
            "194/194 [==============================] - 1s 4ms/step - loss: 0.4988 - acc: 0.5103 - val_loss: 0.4847 - val_acc: 0.6392\n",
            "\n",
            "Epoch 00050: val_acc did not improve from 0.63918\n",
            "Epoch 51/60\n",
            "194/194 [==============================] - 1s 4ms/step - loss: 0.4990 - acc: 0.5103 - val_loss: 0.4877 - val_acc: 0.6392\n",
            "\n",
            "Epoch 00051: val_acc did not improve from 0.63918\n",
            "Epoch 52/60\n",
            "194/194 [==============================] - 1s 5ms/step - loss: 0.4989 - acc: 0.5103 - val_loss: 0.4906 - val_acc: 0.6392\n",
            "\n",
            "Epoch 00052: val_acc did not improve from 0.63918\n",
            "Epoch 53/60\n",
            "194/194 [==============================] - 1s 4ms/step - loss: 0.4993 - acc: 0.5103 - val_loss: 0.4912 - val_acc: 0.6392\n",
            "\n",
            "Epoch 00053: val_acc did not improve from 0.63918\n",
            "Epoch 54/60\n",
            "194/194 [==============================] - 1s 4ms/step - loss: 0.4993 - acc: 0.5103 - val_loss: 0.4887 - val_acc: 0.6392\n",
            "\n",
            "Epoch 00054: val_acc did not improve from 0.63918\n",
            "Epoch 55/60\n",
            "194/194 [==============================] - 1s 4ms/step - loss: 0.4996 - acc: 0.5103 - val_loss: 0.4848 - val_acc: 0.6392\n",
            "\n",
            "Epoch 00055: val_acc did not improve from 0.63918\n",
            "Epoch 56/60\n",
            "194/194 [==============================] - 1s 4ms/step - loss: 0.4991 - acc: 0.5103 - val_loss: 0.4831 - val_acc: 0.6392\n",
            "\n",
            "Epoch 00056: val_acc did not improve from 0.63918\n",
            "Epoch 57/60\n",
            "194/194 [==============================] - 1s 4ms/step - loss: 0.4988 - acc: 0.5103 - val_loss: 0.4843 - val_acc: 0.6392\n",
            "\n",
            "Epoch 00057: val_acc did not improve from 0.63918\n",
            "Epoch 58/60\n",
            "194/194 [==============================] - 1s 4ms/step - loss: 0.4989 - acc: 0.5103 - val_loss: 0.4842 - val_acc: 0.6392\n",
            "\n",
            "Epoch 00058: val_acc did not improve from 0.63918\n",
            "Epoch 59/60\n",
            "194/194 [==============================] - 1s 4ms/step - loss: 0.4989 - acc: 0.5103 - val_loss: 0.4842 - val_acc: 0.6392\n",
            "\n",
            "Epoch 00059: val_acc did not improve from 0.63918\n",
            "Epoch 60/60\n",
            "194/194 [==============================] - 1s 4ms/step - loss: 0.4989 - acc: 0.5103 - val_loss: 0.4838 - val_acc: 0.6392\n",
            "\n",
            "Epoch 00060: val_acc did not improve from 0.63918\n"
          ],
          "name": "stdout"
        }
      ]
    },
    {
      "cell_type": "code",
      "metadata": {
        "id": "2MDaCNCJ6Sxd",
        "colab_type": "code",
        "outputId": "56f29fa2-4056-4755-d20a-5f6b8dade09d",
        "colab": {
          "base_uri": "https://localhost:8080/",
          "height": 595
        }
      },
      "source": [
        "  # summarize history for acc\n",
        "  plt.plot(history.history['acc'])\n",
        "  plt.plot(history.history['val_acc'])\n",
        "  plt.title('Accuracy history of stateless LSTM using Adam')\n",
        "  plt.ylabel('accuracy')\n",
        "  plt.xlabel('epoch')\n",
        "  plt.legend(['train', 'validation'], loc='lower right')\n",
        "  plt.savefig('adam_acc_less')\n",
        "  plt.show()\n",
        "  # summarize history for loss\n",
        "  plt.plot(history.history['loss'])\n",
        "  plt.plot(history.history['val_loss'])\n",
        "  plt.title('Loss history of stateless LSTM using Adam')\n",
        "  plt.ylabel('loss')\n",
        "  plt.xlabel('epoch')\n",
        "  plt.legend(['train', 'validation'], loc='lower left')\n",
        "  plt.savefig('adam_loss_less')\n",
        "  plt.show()"
      ],
      "execution_count": 11,
      "outputs": [
        {
          "output_type": "display_data",
          "data": {
            "image/png": "[encoded data removed]",
            "text/plain": [
              "<Figure size 432x288 with 1 Axes>"
            ]
          },
          "metadata": {
            "tags": []
          }
        },
        {
          "output_type": "display_data",
          "data": {
            "image/png": "[encoded data removed]",
            "text/plain": [
              "<Figure size 432x288 with 1 Axes>"
            ]
          },
          "metadata": {
            "tags": []
          }
        }
      ]
    },
    {
      "cell_type": "markdown",
      "metadata": {
        "id": "2sWXqeGveznS",
        "colab_type": "text"
      },
      "source": [
        ""
      ]
    }
  ]
}